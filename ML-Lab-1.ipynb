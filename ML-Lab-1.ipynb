{
 "cells": [
  {
   "cell_type": "code",
   "execution_count": 1,
   "id": "6f376dbe",
   "metadata": {},
   "outputs": [],
   "source": [
    "import numpy as np\n",
    "import matplotlib.pyplot as plt"
   ]
  },
  {
   "cell_type": "code",
   "execution_count": 2,
   "id": "28d1325c",
   "metadata": {},
   "outputs": [
    {
     "name": "stdout",
     "output_type": "stream",
     "text": [
      "[1.2 2.4 3.5 4.7 6.1 7.2 8.3 9.5]\n"
     ]
    }
   ],
   "source": [
    "one_dimensional_array = np.array([1.2, 2.4, 3.5, 4.7, 6.1, 7.2, 8.3, 9.5])\n",
    "print(one_dimensional_array)"
   ]
  },
  {
   "cell_type": "code",
   "execution_count": 3,
   "id": "49ebadf0",
   "metadata": {},
   "outputs": [
    {
     "name": "stdout",
     "output_type": "stream",
     "text": [
      "[[ 6  5]\n",
      " [11  7]\n",
      " [ 4  8]]\n"
     ]
    }
   ],
   "source": [
    "two_dimensional_array = np.array([[6, 5], [11, 7], [4, 8]])\n",
    "print(two_dimensional_array)"
   ]
  },
  {
   "cell_type": "code",
   "execution_count": 4,
   "id": "7e48b635",
   "metadata": {},
   "outputs": [
    {
     "name": "stdout",
     "output_type": "stream",
     "text": [
      "[ 1  2  3  4  5  6  7  8  9 10]\n"
     ]
    }
   ],
   "source": [
    "sequence_of_integers = np.arange(1, 11)\n",
    "print(sequence_of_integers)"
   ]
  },
  {
   "cell_type": "code",
   "execution_count": 5,
   "id": "7c01f1ad",
   "metadata": {},
   "outputs": [
    {
     "name": "stdout",
     "output_type": "stream",
     "text": [
      "[67 58 59 85 61 59]\n"
     ]
    }
   ],
   "source": [
    "random_integers_between_50_and_100 = np.random.randint(low=50, high=101, size=(6))\n",
    "print(random_integers_between_50_and_100)"
   ]
  },
  {
   "cell_type": "code",
   "execution_count": 6,
   "id": "5f8ed79b",
   "metadata": {},
   "outputs": [
    {
     "name": "stdout",
     "output_type": "stream",
     "text": [
      "[0.77141739 0.19258161 0.0801635  0.63150499 0.5315611  0.57228966]\n"
     ]
    }
   ],
   "source": [
    "random_floats_between_0_and_1 = np.random.random([6])\n",
    "print(random_floats_between_0_and_1) "
   ]
  },
  {
   "cell_type": "code",
   "execution_count": 7,
   "id": "a1016847",
   "metadata": {},
   "outputs": [
    {
     "name": "stdout",
     "output_type": "stream",
     "text": [
      "[2.77141739 2.19258161 2.0801635  2.63150499 2.5315611  2.57228966]\n"
     ]
    }
   ],
   "source": [
    "random_floats_between_2_and_3 = random_floats_between_0_and_1 + 2.0\n",
    "print(random_floats_between_2_and_3)"
   ]
  },
  {
   "cell_type": "code",
   "execution_count": 13,
   "id": "a05ef223",
   "metadata": {},
   "outputs": [
    {
     "name": "stdout",
     "output_type": "stream",
     "text": [
      "[243 156 174 204 165 204]\n"
     ]
    }
   ],
   "source": [
    "random_integers_between_150_and_300 = random_integers_between_50_and_100 * 3\n",
    "print(random_integers_between_150_and_300)"
   ]
  },
  {
   "cell_type": "code",
   "execution_count": 8,
   "id": "6547d480",
   "metadata": {},
   "outputs": [
    {
     "name": "stdout",
     "output_type": "stream",
     "text": [
      "[ 6  7  8  9 10 11 12 13 14 15 16 17 18 19 20]\n",
      "[18 20 22 24 26 28 30 32 34 36 38 40 42 44 46]\n"
     ]
    }
   ],
   "source": [
    "#Machine Learning Task1 zahoor.\n",
    "feature = np.arange(6, 21)\n",
    "print(feature)\n",
    "label = (feature * 2) + 6\n",
    "print(label)"
   ]
  },
  {
   "cell_type": "code",
   "execution_count": 9,
   "id": "850b1d7c",
   "metadata": {},
   "outputs": [
    {
     "name": "stdout",
     "output_type": "stream",
     "text": [
      "[-1.84715924  0.05024914 -1.85938126  0.4137491  -0.37414767 -0.74425774\n",
      " -1.31386561 -0.72382564 -1.1013043   0.07811724  0.43663404 -0.24023019\n",
      "  0.19982067 -0.85907649  0.0940488 ]\n",
      "[16.15284076 20.05024914 20.14061874 24.4137491  25.62585233 27.25574226\n",
      " 28.68613439 31.27617436 32.8986957  36.07811724 38.43663404 39.75976981\n",
      " 42.19982067 43.14092351 46.0940488 ]\n"
     ]
    }
   ],
   "source": [
    "#Machine Learning Task 2 Zahoor\n",
    "noise = (np.random.random([15]) * 4) - 2\n",
    "print(noise)\n",
    "label = label + noise \n",
    "print(label)"
   ]
  },
  {
   "cell_type": "code",
   "execution_count": 10,
   "id": "4879ea1e",
   "metadata": {},
   "outputs": [
    {
     "name": "stdout",
     "output_type": "stream",
     "text": [
      "[[ 8.19371618  0.55471177]\n",
      " [ 6.70312164 -1.44182517]\n",
      " [ 4.59755583 -2.45053746]\n",
      " [-3.69981372 -4.70799926]\n",
      " [ 7.56638259  2.06231199]\n",
      " [-1.0621045   3.77204287]\n",
      " [-4.44810041  7.60022495]\n",
      " [ 8.84415886 -3.32635764]\n",
      " [ 8.38525675 -1.69136661]\n",
      " [-5.53363658 -8.88813207]\n",
      " [-5.17107127 -6.8847739 ]\n",
      " [ 3.5386048   4.78789855]\n",
      " [-9.07218373  2.44507956]\n",
      " [-3.01104281 -5.88182078]\n",
      " [ 9.29040886 -1.27301114]\n",
      " [ 9.20872497 -2.3261518 ]\n",
      " [ 6.93781127  0.55265876]\n",
      " [ 0.59689316  6.56636907]\n",
      " [-8.40885944  7.91306809]\n",
      " [-9.68061314 -9.63020451]\n",
      " [ 3.19652922 -0.5130035 ]\n",
      " [ 8.87381806 -3.63996343]\n",
      " [ 7.95983033 -1.91495779]\n",
      " [ 4.73884635  2.76648894]\n",
      " [ 9.70521108 -9.11622546]\n",
      " [-5.36766377  9.65828177]\n",
      " [-2.48562408 -8.59212221]\n",
      " [-4.24977327 -9.50797624]\n",
      " [-6.82962224  1.88124474]\n",
      " [ 3.34913979  3.66429317]]\n",
      "[ 17.4968559   10.52259293   4.29403674 -16.81562595  19.25738917\n",
      "   5.41987675   6.30424909  11.03560242  13.38778028 -28.8435373\n",
      " -24.11169035  16.65300669 -13.25420834 -17.78572718  16.03479544\n",
      "  13.76514634  14.98094006  14.32652445  -0.99158271 -38.62163529\n",
      "   5.36705143  10.46770926  12.08974508  15.01067058   1.17797125\n",
      "   8.581236   -22.15549258 -27.51549901  -9.896755    14.02686591]\n"
     ]
    },
    {
     "data": {
      "image/png": "[encoded data removed]",
      "text/plain": [
       "<Figure size 640x480 with 1 Axes>"
      ]
     },
     "metadata": {},
     "output_type": "display_data"
    }
   ],
   "source": [
    "# task 3 zahoor\n",
    "features = (np.random.random([30,2]) * 20) - 10\n",
    "print(features)\n",
    "f1= features [:, 0]\n",
    "f2= features [:, 1]\n",
    "label = (f1+f2)*2\n",
    "print(label)\n",
    "plt.scatter(f1,label)\n",
    "plt.scatter(f2,label)\n",
    "plt.show()"
   ]
  },
  {
   "cell_type": "code",
   "execution_count": null,
   "id": "de31f5c2",
   "metadata": {},
   "outputs": [],
   "source": []
  }
 ],
 "metadata": {
  "kernelspec": {
   "display_name": "Python 3 (ipykernel)",
   "language": "python",
   "name": "python3"
  },
  "language_info": {
   "codemirror_mode": {
    "name": "ipython",
    "version": 3
   },
   "file_extension": ".py",
   "mimetype": "text/x-python",
   "name": "python",
   "nbconvert_exporter": "python",
   "pygments_lexer": "ipython3",
   "version": "3.9.13"
  }
 },
 "nbformat": 4,
 "nbformat_minor": 5
}
